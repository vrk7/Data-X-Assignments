{
 "cells": [
  {
   "cell_type": "markdown",
   "id": "b3d08535",
   "metadata": {},
   "source": [
    "<img src=\"https://raw.githubusercontent.com/afo/data-x-plaksha/master/imgsource/dx_logo.png\" align=\"left\"></img><br><br><br><br>"
   ]
  },
  {
   "attachments": {},
   "cell_type": "markdown",
   "id": "34a5e338",
   "metadata": {},
   "source": [
    "## Author - Vysakh R K"
   ]
  },
  {
   "cell_type": "markdown",
   "id": "4c408082",
   "metadata": {},
   "source": [
    "## Plaksha SQL assignment"
   ]
  },
  {
   "cell_type": "markdown",
   "id": "7f7d4113-c3a9-47b2-b7df-b844d49abd22",
   "metadata": {},
   "source": [
    "---\n",
    "\n",
    "## Submission details:\n",
    "\n",
    "Please submit this as a Jupyter Notebook and a PDF of your results (both should show output). Also push your solutions to Github.\n",
    "\n",
    "For the submision create a local database with `sqlite3` or `sqlalchemy` in a Jupyter notebook and make the queries either with a cursor object (and then print the results) or by using pandas `pd.read_sql_query()`."
   ]
  },
  {
   "cell_type": "markdown",
   "id": "0c551f03-7eff-43e2-89a7-a53b54098223",
   "metadata": {},
   "source": [
    "___\n",
    "\n",
    "When completing this homework you can experiment with SQL commands by utilizing this great online editor:\n",
    "\n",
    "https://www.w3schools.com/sql/trysql.asp?filename=trysql_select_all\n",
    "\n",
    "There are already some tables in the online Database, namely:\n",
    "\n",
    "`Categories, Employees, OrderDetails, Orders, Products, Shippers, and Suppliers.`\n",
    "\n",
    "If you want you can drop them by running  `DROP TABLE [table-name];` (or just keep them)."
   ]
  },
  {
   "cell_type": "markdown",
   "id": "dccc820f-21b0-4b2c-9ca8-9cb9eab76023",
   "metadata": {},
   "source": [
    "___\n",
    "\n",
    "## Exercises:\n",
    "\n",
    "First create a table called students. It has the columns: 'student_id', 'name', 'major', 'gpa' and 'enrollment_date' We will use a new form of `CREATE TABLE` expression to produce this table.\n",
    "\n",
    "Note that you can improve this and are welcome to do so -- e.g. by specifying for example a PRIMARY KEY and a FOREIGN KEY in Q2 :)\n",
    "\n",
    "    CREATE TABLE students AS\n",
    "        SELECT 1 AS student_id, \"John\" AS name, \"Computer Science\" AS major, 3.5 AS gpa, \"01-01-2022\" AS enrollment_date UNION\n",
    "        SELECT 2, \"Jane\", \"Physics\", 3.8, \"01-02-2022\" UNION\n",
    "        SELECT 3, \"Bob\", \"Engineering\", 3.0, \"01-03-2022\" UNION\n",
    "        SELECT 4, \"Samantha\", \"Physics\", 3.9, \"01-04-2022\" UNION\n",
    "        SELECT 5, \"James\", \"Engineering\", 3.7, \"01-05-2022\" UNION\n",
    "        SELECT 6, \"Emily\", \"Computer Science\", 3.6, \"01-06-2022\" UNION\n",
    "        SELECT 7, \"Michael\", \"Computer Science\", 3.2, \"01-07-2022\" UNION\n",
    "        SELECT 8, \"Jessica\", \"Engineering\", 3.8, \"01-08-2022\" UNION\n",
    "        SELECT 9, \"Jacob\", \"Physics\", 3.4, \"01-09-2022\" UNION\n",
    "        SELECT 10, \"Ashley\", \"Physics\", 3.9, \"01-10-2022\";\n",
    "\n",
    "\n",
    "## Q1 Simple SELECTS (on the students table)\n",
    "1. SELECT all records in the table.\n",
    "2. SELECT students whose major is \"Computer Science\".\n",
    "3. SELECT all unique majors (use SELECT DISTINCT) and order them by name, descending order (i.e. Physics first).\n",
    "4. SELECT all students that have an 'e' in their name and order them by gpa in ascending order.\n",
    "\n",
    "\n",
    "## Q2 Joins\n",
    "\n",
    "Create a new table called courses, which indicates the courses taken by the students. \n",
    "\n",
    "Create the table by running:\n",
    "\t\n",
    "    CREATE TABLE courses AS\n",
    "        SELECT 1 AS course_id, \"Python programming\" AS course_name, 1 AS student_id, \"A\" AS grade UNION\n",
    "        SELECT 2, \"Data Structures\", 2, \"B\" UNION\n",
    "        SELECT 3, \"Database Systems\", 3, \"B\" UNION\n",
    "        SELECT 1, \"Python programming\", 4, \"A\" UNION\n",
    "        SELECT 4, \"Quantum Mechanics\", 5, \"C\" UNION\n",
    "        SELECT 1, \"Python programming\", 6, \"F\" UNION\n",
    "        SELECT 2, \"Data Structures\", 7, \"C\" UNION\n",
    "        SELECT 3, \"Database Systems\", 8, \"A\" UNION\n",
    "        SELECT 4, \"Quantum Mechanics\", 9, \"A\" UNION\n",
    "        SELECT 2, \"Data Structures\", 10, \"F\";\n",
    "\n",
    "1. COUNT the number of unique courses.\n",
    "2. JOIN the tables students and courses and COUNT the number of students with the major Computer Science taking the course Python programming.\n",
    "3. JOIN the tables students and courses and select the students who have grades higher than \"C\", only show their name, major, gpa, course_name and grade.\n",
    "\n",
    "\n",
    "## Q3 Aggregate functions, numerical logic and grouping\n",
    "\n",
    "1. Find the average gpa of all students.\n",
    "2. SELECT the student with the maximum gpa, display only their student_id, major and gpa\n",
    "3. SELECT the student with the minimum gpa, display only their student_id, major and gpa\n",
    "4. SELECT the students with a gpa greater than 3.6 in the majors of \"Physics\" and \"Engineering\", display only their student_id, major and gpa\n",
    "5. Group the students by their major and retrieve the average grade of each major.\n",
    "6. SELECT the top 2 students with the highest GPA in each major and order the results by major in ascending order, then by GPA in descending order"
   ]
  },
  {
   "attachments": {},
   "cell_type": "markdown",
   "id": "3ab84519",
   "metadata": {},
   "source": [
    "# <font color = 'green'>**MY SOLUTION**</font>"
   ]
  },
  {
   "attachments": {},
   "cell_type": "markdown",
   "id": "840af047",
   "metadata": {},
   "source": [
    "### <font color = 'red'>**Q1 Simple SELECTS (on the students table)**</font>"
   ]
  },
  {
   "attachments": {},
   "cell_type": "markdown",
   "id": "81680fd6",
   "metadata": {},
   "source": [
    "### Importing the required packages"
   ]
  },
  {
   "cell_type": "code",
   "execution_count": 201,
   "id": "0515995a",
   "metadata": {},
   "outputs": [],
   "source": [
    "import sqlite3\n",
    "import pandas as pd\n",
    "\n",
    "# No warnings\n",
    "import warnings\n",
    "warnings.filterwarnings(\"ignore\")  # Filter out warnings"
   ]
  },
  {
   "attachments": {},
   "cell_type": "markdown",
   "id": "5036becf",
   "metadata": {},
   "source": [
    "### Initial activities of creation and inserting values using sqlite"
   ]
  },
  {
   "cell_type": "code",
   "execution_count": 202,
   "id": "c7cff114",
   "metadata": {},
   "outputs": [
    {
     "data": {
      "text/plain": [
       "<sqlite3.Cursor at 0x1b38bc94650>"
      ]
     },
     "execution_count": 202,
     "metadata": {},
     "output_type": "execute_result"
    }
   ],
   "source": [
    "connection=sqlite3.connect('database.db')\n",
    "cursor=connection.cursor()\n",
    "cursor.execute('DROP TABLE IF EXISTS students')"
   ]
  },
  {
   "cell_type": "code",
   "execution_count": 203,
   "id": "1e232569",
   "metadata": {},
   "outputs": [],
   "source": [
    "table=  '''CREATE TABLE students AS\n",
    "        SELECT 1 AS student_id, \"John\" AS name, \"Computer Science\" AS major, 3.5 AS gpa, \"01-01-2022\" AS enrollment_date UNION\n",
    "        SELECT 2, \"Jane\", \"Physics\", 3.8, \"01-02-2022\" UNION\n",
    "        SELECT 3, \"Bob\", \"Engineering\", 3.0, \"01-03-2022\" UNION\n",
    "        SELECT 4, \"Samantha\", \"Physics\", 3.9, \"01-04-2022\" UNION\n",
    "        SELECT 5, \"James\", \"Engineering\", 3.7, \"01-05-2022\" UNION\n",
    "        SELECT 6, \"Emily\", \"Computer Science\", 3.6, \"01-06-2022\" UNION\n",
    "        SELECT 7, \"Michael\", \"Computer Science\", 3.2, \"01-07-2022\" UNION\n",
    "        SELECT 8, \"Jessica\", \"Engineering\", 3.8, \"01-08-2022\" UNION\n",
    "        SELECT 9, \"Jacob\", \"Physics\", 3.4, \"01-09-2022\" UNION\n",
    "        SELECT 10, \"Ashley\", \"Physics\", 3.9, \"01-10-2022\";'''"
   ]
  },
  {
   "cell_type": "code",
   "execution_count": 204,
   "id": "24c7fc55",
   "metadata": {},
   "outputs": [
    {
     "data": {
      "text/plain": [
       "<sqlite3.Cursor at 0x1b38bc94650>"
      ]
     },
     "execution_count": 204,
     "metadata": {},
     "output_type": "execute_result"
    }
   ],
   "source": [
    "cursor.execute(table)"
   ]
  },
  {
   "cell_type": "code",
   "execution_count": 205,
   "id": "fa8862b3",
   "metadata": {},
   "outputs": [],
   "source": [
    "connection.commit()\n",
    "connection.close()"
   ]
  },
  {
   "cell_type": "code",
   "execution_count": 206,
   "id": "b9a7b5a3",
   "metadata": {},
   "outputs": [
    {
     "name": "stdout",
     "output_type": "stream",
     "text": [
      "(1, 'John', 'Computer Science', 3.5, '01-01-2022')\n",
      "(2, 'Jane', 'Physics', 3.8, '01-02-2022')\n",
      "(3, 'Bob', 'Engineering', 3.0, '01-03-2022')\n",
      "(4, 'Samantha', 'Physics', 3.9, '01-04-2022')\n",
      "(5, 'James', 'Engineering', 3.7, '01-05-2022')\n",
      "(6, 'Emily', 'Computer Science', 3.6, '01-06-2022')\n",
      "(7, 'Michael', 'Computer Science', 3.2, '01-07-2022')\n",
      "(8, 'Jessica', 'Engineering', 3.8, '01-08-2022')\n",
      "(9, 'Jacob', 'Physics', 3.4, '01-09-2022')\n",
      "(10, 'Ashley', 'Physics', 3.9, '01-10-2022')\n"
     ]
    }
   ],
   "source": [
    "#See if the above steps have worked well\n",
    "connection=sqlite3.connect('database.db')\n",
    "cursor=connection.cursor()\n",
    "A=cursor.execute('SELECT * FROM students')\n",
    "\n",
    "for row in A.fetchall():\n",
    "  print(row)"
   ]
  },
  {
   "attachments": {},
   "cell_type": "markdown",
   "id": "7fc660c8",
   "metadata": {},
   "source": [
    "### <font color = 'red'>**Q1 Simple SELECTS (on the students table)** </font>"
   ]
  },
  {
   "attachments": {},
   "cell_type": "markdown",
   "id": "f01ee410",
   "metadata": {},
   "source": [
    "### *1. SELECT all records in the table.*"
   ]
  },
  {
   "cell_type": "code",
   "execution_count": 207,
   "id": "eb5751ce",
   "metadata": {},
   "outputs": [
    {
     "data": {
      "text/html": [
       "<div>\n",
       "<style scoped>\n",
       "    .dataframe tbody tr th:only-of-type {\n",
       "        vertical-align: middle;\n",
       "    }\n",
       "\n",
       "    .dataframe tbody tr th {\n",
       "        vertical-align: top;\n",
       "    }\n",
       "\n",
       "    .dataframe thead th {\n",
       "        text-align: right;\n",
       "    }\n",
       "</style>\n",
       "<table border=\"1\" class=\"dataframe\">\n",
       "  <thead>\n",
       "    <tr style=\"text-align: right;\">\n",
       "      <th></th>\n",
       "      <th>student_id</th>\n",
       "      <th>name</th>\n",
       "      <th>major</th>\n",
       "      <th>gpa</th>\n",
       "      <th>enrollment_date</th>\n",
       "    </tr>\n",
       "  </thead>\n",
       "  <tbody>\n",
       "    <tr>\n",
       "      <th>0</th>\n",
       "      <td>1</td>\n",
       "      <td>John</td>\n",
       "      <td>Computer Science</td>\n",
       "      <td>3.5</td>\n",
       "      <td>01-01-2022</td>\n",
       "    </tr>\n",
       "    <tr>\n",
       "      <th>1</th>\n",
       "      <td>2</td>\n",
       "      <td>Jane</td>\n",
       "      <td>Physics</td>\n",
       "      <td>3.8</td>\n",
       "      <td>01-02-2022</td>\n",
       "    </tr>\n",
       "    <tr>\n",
       "      <th>2</th>\n",
       "      <td>3</td>\n",
       "      <td>Bob</td>\n",
       "      <td>Engineering</td>\n",
       "      <td>3.0</td>\n",
       "      <td>01-03-2022</td>\n",
       "    </tr>\n",
       "    <tr>\n",
       "      <th>3</th>\n",
       "      <td>4</td>\n",
       "      <td>Samantha</td>\n",
       "      <td>Physics</td>\n",
       "      <td>3.9</td>\n",
       "      <td>01-04-2022</td>\n",
       "    </tr>\n",
       "    <tr>\n",
       "      <th>4</th>\n",
       "      <td>5</td>\n",
       "      <td>James</td>\n",
       "      <td>Engineering</td>\n",
       "      <td>3.7</td>\n",
       "      <td>01-05-2022</td>\n",
       "    </tr>\n",
       "    <tr>\n",
       "      <th>5</th>\n",
       "      <td>6</td>\n",
       "      <td>Emily</td>\n",
       "      <td>Computer Science</td>\n",
       "      <td>3.6</td>\n",
       "      <td>01-06-2022</td>\n",
       "    </tr>\n",
       "    <tr>\n",
       "      <th>6</th>\n",
       "      <td>7</td>\n",
       "      <td>Michael</td>\n",
       "      <td>Computer Science</td>\n",
       "      <td>3.2</td>\n",
       "      <td>01-07-2022</td>\n",
       "    </tr>\n",
       "    <tr>\n",
       "      <th>7</th>\n",
       "      <td>8</td>\n",
       "      <td>Jessica</td>\n",
       "      <td>Engineering</td>\n",
       "      <td>3.8</td>\n",
       "      <td>01-08-2022</td>\n",
       "    </tr>\n",
       "    <tr>\n",
       "      <th>8</th>\n",
       "      <td>9</td>\n",
       "      <td>Jacob</td>\n",
       "      <td>Physics</td>\n",
       "      <td>3.4</td>\n",
       "      <td>01-09-2022</td>\n",
       "    </tr>\n",
       "    <tr>\n",
       "      <th>9</th>\n",
       "      <td>10</td>\n",
       "      <td>Ashley</td>\n",
       "      <td>Physics</td>\n",
       "      <td>3.9</td>\n",
       "      <td>01-10-2022</td>\n",
       "    </tr>\n",
       "  </tbody>\n",
       "</table>\n",
       "</div>"
      ],
      "text/plain": [
       "   student_id      name             major  gpa enrollment_date\n",
       "0           1      John  Computer Science  3.5      01-01-2022\n",
       "1           2      Jane           Physics  3.8      01-02-2022\n",
       "2           3       Bob       Engineering  3.0      01-03-2022\n",
       "3           4  Samantha           Physics  3.9      01-04-2022\n",
       "4           5     James       Engineering  3.7      01-05-2022\n",
       "5           6     Emily  Computer Science  3.6      01-06-2022\n",
       "6           7   Michael  Computer Science  3.2      01-07-2022\n",
       "7           8   Jessica       Engineering  3.8      01-08-2022\n",
       "8           9     Jacob           Physics  3.4      01-09-2022\n",
       "9          10    Ashley           Physics  3.9      01-10-2022"
      ]
     },
     "execution_count": 207,
     "metadata": {},
     "output_type": "execute_result"
    }
   ],
   "source": [
    "connection=sqlite3.connect('database.db')\n",
    "cursor=connection.cursor()\n",
    "pd.read_sql(\"SELECT * FROM students\",con = connection)"
   ]
  },
  {
   "attachments": {},
   "cell_type": "markdown",
   "id": "80b62403",
   "metadata": {},
   "source": [
    "### *2. SELECT students whose major is \"Computer Science\".*"
   ]
  },
  {
   "cell_type": "code",
   "execution_count": 208,
   "id": "f4d7982e",
   "metadata": {},
   "outputs": [
    {
     "data": {
      "text/html": [
       "<div>\n",
       "<style scoped>\n",
       "    .dataframe tbody tr th:only-of-type {\n",
       "        vertical-align: middle;\n",
       "    }\n",
       "\n",
       "    .dataframe tbody tr th {\n",
       "        vertical-align: top;\n",
       "    }\n",
       "\n",
       "    .dataframe thead th {\n",
       "        text-align: right;\n",
       "    }\n",
       "</style>\n",
       "<table border=\"1\" class=\"dataframe\">\n",
       "  <thead>\n",
       "    <tr style=\"text-align: right;\">\n",
       "      <th></th>\n",
       "      <th>student_id</th>\n",
       "      <th>name</th>\n",
       "      <th>major</th>\n",
       "      <th>gpa</th>\n",
       "      <th>enrollment_date</th>\n",
       "    </tr>\n",
       "  </thead>\n",
       "  <tbody>\n",
       "    <tr>\n",
       "      <th>0</th>\n",
       "      <td>1</td>\n",
       "      <td>John</td>\n",
       "      <td>Computer Science</td>\n",
       "      <td>3.5</td>\n",
       "      <td>01-01-2022</td>\n",
       "    </tr>\n",
       "    <tr>\n",
       "      <th>1</th>\n",
       "      <td>6</td>\n",
       "      <td>Emily</td>\n",
       "      <td>Computer Science</td>\n",
       "      <td>3.6</td>\n",
       "      <td>01-06-2022</td>\n",
       "    </tr>\n",
       "    <tr>\n",
       "      <th>2</th>\n",
       "      <td>7</td>\n",
       "      <td>Michael</td>\n",
       "      <td>Computer Science</td>\n",
       "      <td>3.2</td>\n",
       "      <td>01-07-2022</td>\n",
       "    </tr>\n",
       "  </tbody>\n",
       "</table>\n",
       "</div>"
      ],
      "text/plain": [
       "   student_id     name             major  gpa enrollment_date\n",
       "0           1     John  Computer Science  3.5      01-01-2022\n",
       "1           6    Emily  Computer Science  3.6      01-06-2022\n",
       "2           7  Michael  Computer Science  3.2      01-07-2022"
      ]
     },
     "execution_count": 208,
     "metadata": {},
     "output_type": "execute_result"
    }
   ],
   "source": [
    "pd.read_sql('SELECT * FROM students WHERE [major]=\"Computer Science\"',con=connection)"
   ]
  },
  {
   "attachments": {},
   "cell_type": "markdown",
   "id": "71a2fa13",
   "metadata": {},
   "source": [
    "### *3. SELECT all unique majors (use SELECT DISTINCT) and order them by name, descending order (i.e. Physics first).*"
   ]
  },
  {
   "cell_type": "code",
   "execution_count": 209,
   "id": "e43a053a",
   "metadata": {},
   "outputs": [
    {
     "data": {
      "text/html": [
       "<div>\n",
       "<style scoped>\n",
       "    .dataframe tbody tr th:only-of-type {\n",
       "        vertical-align: middle;\n",
       "    }\n",
       "\n",
       "    .dataframe tbody tr th {\n",
       "        vertical-align: top;\n",
       "    }\n",
       "\n",
       "    .dataframe thead th {\n",
       "        text-align: right;\n",
       "    }\n",
       "</style>\n",
       "<table border=\"1\" class=\"dataframe\">\n",
       "  <thead>\n",
       "    <tr style=\"text-align: right;\">\n",
       "      <th></th>\n",
       "      <th>major</th>\n",
       "    </tr>\n",
       "  </thead>\n",
       "  <tbody>\n",
       "    <tr>\n",
       "      <th>0</th>\n",
       "      <td>Computer Science</td>\n",
       "    </tr>\n",
       "    <tr>\n",
       "      <th>1</th>\n",
       "      <td>Physics</td>\n",
       "    </tr>\n",
       "    <tr>\n",
       "      <th>2</th>\n",
       "      <td>Engineering</td>\n",
       "    </tr>\n",
       "  </tbody>\n",
       "</table>\n",
       "</div>"
      ],
      "text/plain": [
       "              major\n",
       "0  Computer Science\n",
       "1           Physics\n",
       "2       Engineering"
      ]
     },
     "execution_count": 209,
     "metadata": {},
     "output_type": "execute_result"
    }
   ],
   "source": [
    "pd.read_sql('SELECT DISTINCT [major] FROM students ORDER BY [name] DESC',con=connection)"
   ]
  },
  {
   "attachments": {},
   "cell_type": "markdown",
   "id": "7abdbb46",
   "metadata": {},
   "source": [
    "### *4. SELECT all students that have an 'e' in their name and order them by gpa in ascending order.*"
   ]
  },
  {
   "cell_type": "code",
   "execution_count": 210,
   "id": "0e074075",
   "metadata": {},
   "outputs": [
    {
     "data": {
      "text/html": [
       "<div>\n",
       "<style scoped>\n",
       "    .dataframe tbody tr th:only-of-type {\n",
       "        vertical-align: middle;\n",
       "    }\n",
       "\n",
       "    .dataframe tbody tr th {\n",
       "        vertical-align: top;\n",
       "    }\n",
       "\n",
       "    .dataframe thead th {\n",
       "        text-align: right;\n",
       "    }\n",
       "</style>\n",
       "<table border=\"1\" class=\"dataframe\">\n",
       "  <thead>\n",
       "    <tr style=\"text-align: right;\">\n",
       "      <th></th>\n",
       "      <th>student_id</th>\n",
       "      <th>name</th>\n",
       "      <th>major</th>\n",
       "      <th>gpa</th>\n",
       "      <th>enrollment_date</th>\n",
       "    </tr>\n",
       "  </thead>\n",
       "  <tbody>\n",
       "    <tr>\n",
       "      <th>0</th>\n",
       "      <td>7</td>\n",
       "      <td>Michael</td>\n",
       "      <td>Computer Science</td>\n",
       "      <td>3.2</td>\n",
       "      <td>01-07-2022</td>\n",
       "    </tr>\n",
       "    <tr>\n",
       "      <th>1</th>\n",
       "      <td>6</td>\n",
       "      <td>Emily</td>\n",
       "      <td>Computer Science</td>\n",
       "      <td>3.6</td>\n",
       "      <td>01-06-2022</td>\n",
       "    </tr>\n",
       "    <tr>\n",
       "      <th>2</th>\n",
       "      <td>5</td>\n",
       "      <td>James</td>\n",
       "      <td>Engineering</td>\n",
       "      <td>3.7</td>\n",
       "      <td>01-05-2022</td>\n",
       "    </tr>\n",
       "    <tr>\n",
       "      <th>3</th>\n",
       "      <td>2</td>\n",
       "      <td>Jane</td>\n",
       "      <td>Physics</td>\n",
       "      <td>3.8</td>\n",
       "      <td>01-02-2022</td>\n",
       "    </tr>\n",
       "    <tr>\n",
       "      <th>4</th>\n",
       "      <td>8</td>\n",
       "      <td>Jessica</td>\n",
       "      <td>Engineering</td>\n",
       "      <td>3.8</td>\n",
       "      <td>01-08-2022</td>\n",
       "    </tr>\n",
       "    <tr>\n",
       "      <th>5</th>\n",
       "      <td>10</td>\n",
       "      <td>Ashley</td>\n",
       "      <td>Physics</td>\n",
       "      <td>3.9</td>\n",
       "      <td>01-10-2022</td>\n",
       "    </tr>\n",
       "  </tbody>\n",
       "</table>\n",
       "</div>"
      ],
      "text/plain": [
       "   student_id     name             major  gpa enrollment_date\n",
       "0           7  Michael  Computer Science  3.2      01-07-2022\n",
       "1           6    Emily  Computer Science  3.6      01-06-2022\n",
       "2           5    James       Engineering  3.7      01-05-2022\n",
       "3           2     Jane           Physics  3.8      01-02-2022\n",
       "4           8  Jessica       Engineering  3.8      01-08-2022\n",
       "5          10   Ashley           Physics  3.9      01-10-2022"
      ]
     },
     "execution_count": 210,
     "metadata": {},
     "output_type": "execute_result"
    }
   ],
   "source": [
    "pd.read_sql('SELECT * FROM students WHERE [name] LIKE \"%e%\" ORDER BY [gpa]' ,con=connection)"
   ]
  },
  {
   "cell_type": "code",
   "execution_count": 211,
   "id": "c5fc6190",
   "metadata": {},
   "outputs": [],
   "source": [
    "connection.close()"
   ]
  },
  {
   "attachments": {},
   "cell_type": "markdown",
   "id": "ae3643a6",
   "metadata": {},
   "source": [
    "### <font color = 'red'>**Q2 Joins**</font>\n",
    "\n",
    "Create a new table called courses, which indicates the courses taken by the students. \n",
    "\n",
    "Create the table by running:\n",
    "\t\n",
    "    CREATE TABLE courses AS\n",
    "        SELECT 1 AS course_id, \"Python programming\" AS course_name, 1 AS student_id, \"A\" AS grade UNION\n",
    "        SELECT 2, \"Data Structures\", 2, \"B\" UNION\n",
    "        SELECT 3, \"Database Systems\", 3, \"B\" UNION\n",
    "        SELECT 1, \"Python programming\", 4, \"A\" UNION\n",
    "        SELECT 4, \"Quantum Mechanics\", 5, \"C\" UNION\n",
    "        SELECT 1, \"Python programming\", 6, \"F\" UNION\n",
    "        SELECT 2, \"Data Structures\", 7, \"C\" UNION\n",
    "        SELECT 3, \"Database Systems\", 8, \"A\" UNION\n",
    "        SELECT 4, \"Quantum Mechanics\", 9, \"A\" UNION\n",
    "        SELECT 2, \"Data Structures\", 10, \"F\";"
   ]
  },
  {
   "cell_type": "code",
   "execution_count": 212,
   "id": "72c529ff",
   "metadata": {},
   "outputs": [
    {
     "data": {
      "text/plain": [
       "<sqlite3.Cursor at 0x1b38bc94c00>"
      ]
     },
     "execution_count": 212,
     "metadata": {},
     "output_type": "execute_result"
    }
   ],
   "source": [
    "connection=sqlite3.connect('database.db')\n",
    "cursor=connection.cursor()\n",
    "cursor.execute('DROP TABLE IF EXISTS courses')"
   ]
  },
  {
   "cell_type": "code",
   "execution_count": 213,
   "id": "a6407c3b",
   "metadata": {},
   "outputs": [],
   "source": [
    "query = '''CREATE TABLE courses AS\n",
    "        SELECT 1 AS course_id, \"Python programming\" AS course_name, 1 AS student_id, \"A\" AS grade UNION\n",
    "        SELECT 2, \"Data Structures\", 2, \"B\" UNION\n",
    "        SELECT 3, \"Database Systems\", 3, \"B\" UNION\n",
    "        SELECT 1, \"Python programming\", 4, \"A\" UNION\n",
    "        SELECT 4, \"Quantum Mechanics\", 5, \"C\" UNION\n",
    "        SELECT 1, \"Python programming\", 6, \"F\" UNION\n",
    "        SELECT 2, \"Data Structures\", 7, \"C\" UNION\n",
    "        SELECT 3, \"Database Systems\", 8, \"A\" UNION\n",
    "        SELECT 4, \"Quantum Mechanics\", 9, \"A\" UNION\n",
    "        SELECT 2, \"Data Structures\", 10, \"F\"; '''"
   ]
  },
  {
   "cell_type": "code",
   "execution_count": 214,
   "id": "a11e995b",
   "metadata": {},
   "outputs": [],
   "source": [
    "cursor.execute(query)\n",
    "connection.commit()\n",
    "connection.close()"
   ]
  },
  {
   "cell_type": "code",
   "execution_count": 215,
   "id": "1fcddb74",
   "metadata": {},
   "outputs": [
    {
     "data": {
      "text/html": [
       "<div>\n",
       "<style scoped>\n",
       "    .dataframe tbody tr th:only-of-type {\n",
       "        vertical-align: middle;\n",
       "    }\n",
       "\n",
       "    .dataframe tbody tr th {\n",
       "        vertical-align: top;\n",
       "    }\n",
       "\n",
       "    .dataframe thead th {\n",
       "        text-align: right;\n",
       "    }\n",
       "</style>\n",
       "<table border=\"1\" class=\"dataframe\">\n",
       "  <thead>\n",
       "    <tr style=\"text-align: right;\">\n",
       "      <th></th>\n",
       "      <th>course_id</th>\n",
       "      <th>course_name</th>\n",
       "      <th>student_id</th>\n",
       "      <th>grade</th>\n",
       "    </tr>\n",
       "  </thead>\n",
       "  <tbody>\n",
       "    <tr>\n",
       "      <th>0</th>\n",
       "      <td>1</td>\n",
       "      <td>Python programming</td>\n",
       "      <td>1</td>\n",
       "      <td>A</td>\n",
       "    </tr>\n",
       "    <tr>\n",
       "      <th>1</th>\n",
       "      <td>1</td>\n",
       "      <td>Python programming</td>\n",
       "      <td>4</td>\n",
       "      <td>A</td>\n",
       "    </tr>\n",
       "    <tr>\n",
       "      <th>2</th>\n",
       "      <td>1</td>\n",
       "      <td>Python programming</td>\n",
       "      <td>6</td>\n",
       "      <td>F</td>\n",
       "    </tr>\n",
       "    <tr>\n",
       "      <th>3</th>\n",
       "      <td>2</td>\n",
       "      <td>Data Structures</td>\n",
       "      <td>2</td>\n",
       "      <td>B</td>\n",
       "    </tr>\n",
       "    <tr>\n",
       "      <th>4</th>\n",
       "      <td>2</td>\n",
       "      <td>Data Structures</td>\n",
       "      <td>7</td>\n",
       "      <td>C</td>\n",
       "    </tr>\n",
       "    <tr>\n",
       "      <th>5</th>\n",
       "      <td>2</td>\n",
       "      <td>Data Structures</td>\n",
       "      <td>10</td>\n",
       "      <td>F</td>\n",
       "    </tr>\n",
       "    <tr>\n",
       "      <th>6</th>\n",
       "      <td>3</td>\n",
       "      <td>Database Systems</td>\n",
       "      <td>3</td>\n",
       "      <td>B</td>\n",
       "    </tr>\n",
       "    <tr>\n",
       "      <th>7</th>\n",
       "      <td>3</td>\n",
       "      <td>Database Systems</td>\n",
       "      <td>8</td>\n",
       "      <td>A</td>\n",
       "    </tr>\n",
       "    <tr>\n",
       "      <th>8</th>\n",
       "      <td>4</td>\n",
       "      <td>Quantum Mechanics</td>\n",
       "      <td>5</td>\n",
       "      <td>C</td>\n",
       "    </tr>\n",
       "    <tr>\n",
       "      <th>9</th>\n",
       "      <td>4</td>\n",
       "      <td>Quantum Mechanics</td>\n",
       "      <td>9</td>\n",
       "      <td>A</td>\n",
       "    </tr>\n",
       "  </tbody>\n",
       "</table>\n",
       "</div>"
      ],
      "text/plain": [
       "   course_id         course_name  student_id grade\n",
       "0          1  Python programming           1     A\n",
       "1          1  Python programming           4     A\n",
       "2          1  Python programming           6     F\n",
       "3          2     Data Structures           2     B\n",
       "4          2     Data Structures           7     C\n",
       "5          2     Data Structures          10     F\n",
       "6          3    Database Systems           3     B\n",
       "7          3    Database Systems           8     A\n",
       "8          4   Quantum Mechanics           5     C\n",
       "9          4   Quantum Mechanics           9     A"
      ]
     },
     "execution_count": 215,
     "metadata": {},
     "output_type": "execute_result"
    }
   ],
   "source": [
    "#Checking if the connection is established and table is set\n",
    "connection=sqlite3.connect('database.db')\n",
    "cursor=connection.cursor()\n",
    "pd.read_sql('SELECT * FROM courses',con=connection)"
   ]
  },
  {
   "attachments": {},
   "cell_type": "markdown",
   "id": "10e85fad",
   "metadata": {},
   "source": [
    "### *1. COUNT the number of unique courses.*"
   ]
  },
  {
   "cell_type": "code",
   "execution_count": 216,
   "id": "1947ddb4",
   "metadata": {},
   "outputs": [
    {
     "data": {
      "text/html": [
       "<div>\n",
       "<style scoped>\n",
       "    .dataframe tbody tr th:only-of-type {\n",
       "        vertical-align: middle;\n",
       "    }\n",
       "\n",
       "    .dataframe tbody tr th {\n",
       "        vertical-align: top;\n",
       "    }\n",
       "\n",
       "    .dataframe thead th {\n",
       "        text-align: right;\n",
       "    }\n",
       "</style>\n",
       "<table border=\"1\" class=\"dataframe\">\n",
       "  <thead>\n",
       "    <tr style=\"text-align: right;\">\n",
       "      <th></th>\n",
       "      <th>Number of unique courses</th>\n",
       "    </tr>\n",
       "  </thead>\n",
       "  <tbody>\n",
       "    <tr>\n",
       "      <th>0</th>\n",
       "      <td>4</td>\n",
       "    </tr>\n",
       "  </tbody>\n",
       "</table>\n",
       "</div>"
      ],
      "text/plain": [
       "   Number of unique courses\n",
       "0                         4"
      ]
     },
     "execution_count": 216,
     "metadata": {},
     "output_type": "execute_result"
    }
   ],
   "source": [
    "pd.read_sql('SELECT COUNT ( DISTINCT course_name ) AS \"Number of unique courses\" FROM courses',con=connection)"
   ]
  },
  {
   "attachments": {},
   "cell_type": "markdown",
   "id": "ba980959",
   "metadata": {},
   "source": [
    "### *2. JOIN the tables students and courses and COUNT the number of students with the major Computer Science taking the course Python programming.*"
   ]
  },
  {
   "cell_type": "code",
   "execution_count": 217,
   "id": "c1e8bbc9",
   "metadata": {},
   "outputs": [
    {
     "data": {
      "text/html": [
       "<div>\n",
       "<style scoped>\n",
       "    .dataframe tbody tr th:only-of-type {\n",
       "        vertical-align: middle;\n",
       "    }\n",
       "\n",
       "    .dataframe tbody tr th {\n",
       "        vertical-align: top;\n",
       "    }\n",
       "\n",
       "    .dataframe thead th {\n",
       "        text-align: right;\n",
       "    }\n",
       "</style>\n",
       "<table border=\"1\" class=\"dataframe\">\n",
       "  <thead>\n",
       "    <tr style=\"text-align: right;\">\n",
       "      <th></th>\n",
       "      <th>Number of Students with major CS and course Python</th>\n",
       "    </tr>\n",
       "  </thead>\n",
       "  <tbody>\n",
       "    <tr>\n",
       "      <th>0</th>\n",
       "      <td>2</td>\n",
       "    </tr>\n",
       "  </tbody>\n",
       "</table>\n",
       "</div>"
      ],
      "text/plain": [
       "   Number of Students with major CS and course Python\n",
       "0                                                  2 "
      ]
     },
     "execution_count": 217,
     "metadata": {},
     "output_type": "execute_result"
    }
   ],
   "source": [
    "pd.read_sql('SELECT COUNT(*) AS \"Number of Students with major CS and course Python\"\\\n",
    "            FROM students A \\\n",
    "            INNER JOIN courses B\\\n",
    "            ON A.student_id=B.student_id\\\n",
    "            AND A.major=\"Computer Science\"\\\n",
    "            AND B.course_name=\"Python programming\" ',con=connection)"
   ]
  },
  {
   "attachments": {},
   "cell_type": "markdown",
   "id": "d558e1a7",
   "metadata": {},
   "source": [
    "### *3. JOIN the tables students and courses and select the students who have grades higher than \"C\", only show their name, major, gpa, course_name and grade.*"
   ]
  },
  {
   "cell_type": "code",
   "execution_count": 218,
   "id": "ae6e29db",
   "metadata": {},
   "outputs": [
    {
     "data": {
      "text/html": [
       "<div>\n",
       "<style scoped>\n",
       "    .dataframe tbody tr th:only-of-type {\n",
       "        vertical-align: middle;\n",
       "    }\n",
       "\n",
       "    .dataframe tbody tr th {\n",
       "        vertical-align: top;\n",
       "    }\n",
       "\n",
       "    .dataframe thead th {\n",
       "        text-align: right;\n",
       "    }\n",
       "</style>\n",
       "<table border=\"1\" class=\"dataframe\">\n",
       "  <thead>\n",
       "    <tr style=\"text-align: right;\">\n",
       "      <th></th>\n",
       "      <th>name</th>\n",
       "      <th>major</th>\n",
       "      <th>gpa</th>\n",
       "      <th>course_name</th>\n",
       "      <th>grade</th>\n",
       "    </tr>\n",
       "  </thead>\n",
       "  <tbody>\n",
       "    <tr>\n",
       "      <th>0</th>\n",
       "      <td>John</td>\n",
       "      <td>Computer Science</td>\n",
       "      <td>3.5</td>\n",
       "      <td>Python programming</td>\n",
       "      <td>A</td>\n",
       "    </tr>\n",
       "    <tr>\n",
       "      <th>1</th>\n",
       "      <td>Samantha</td>\n",
       "      <td>Physics</td>\n",
       "      <td>3.9</td>\n",
       "      <td>Python programming</td>\n",
       "      <td>A</td>\n",
       "    </tr>\n",
       "    <tr>\n",
       "      <th>2</th>\n",
       "      <td>Jessica</td>\n",
       "      <td>Engineering</td>\n",
       "      <td>3.8</td>\n",
       "      <td>Database Systems</td>\n",
       "      <td>A</td>\n",
       "    </tr>\n",
       "    <tr>\n",
       "      <th>3</th>\n",
       "      <td>Jacob</td>\n",
       "      <td>Physics</td>\n",
       "      <td>3.4</td>\n",
       "      <td>Quantum Mechanics</td>\n",
       "      <td>A</td>\n",
       "    </tr>\n",
       "    <tr>\n",
       "      <th>4</th>\n",
       "      <td>Jane</td>\n",
       "      <td>Physics</td>\n",
       "      <td>3.8</td>\n",
       "      <td>Data Structures</td>\n",
       "      <td>B</td>\n",
       "    </tr>\n",
       "    <tr>\n",
       "      <th>5</th>\n",
       "      <td>Bob</td>\n",
       "      <td>Engineering</td>\n",
       "      <td>3.0</td>\n",
       "      <td>Database Systems</td>\n",
       "      <td>B</td>\n",
       "    </tr>\n",
       "  </tbody>\n",
       "</table>\n",
       "</div>"
      ],
      "text/plain": [
       "       name             major  gpa         course_name grade\n",
       "0      John  Computer Science  3.5  Python programming     A\n",
       "1  Samantha           Physics  3.9  Python programming     A\n",
       "2   Jessica       Engineering  3.8    Database Systems     A\n",
       "3     Jacob           Physics  3.4   Quantum Mechanics     A\n",
       "4      Jane           Physics  3.8     Data Structures     B\n",
       "5       Bob       Engineering  3.0    Database Systems     B"
      ]
     },
     "execution_count": 218,
     "metadata": {},
     "output_type": "execute_result"
    }
   ],
   "source": [
    "pd.read_sql('SELECT DISTINCT A.name, A.major, A.gpa, B.course_name, B.grade\\\n",
    "            FROM students A \\\n",
    "            INNER JOIN courses B\\\n",
    "            ON A.student_id=B.student_id\\\n",
    "            WHERE B.grade < \"C\" ORDER BY B.grade',con=connection)"
   ]
  },
  {
   "attachments": {},
   "cell_type": "markdown",
   "id": "be73a9b4",
   "metadata": {},
   "source": [
    "### <font color = 'red'>**Q3 Aggregate functions, numerical logic and grouping**</font>"
   ]
  },
  {
   "attachments": {},
   "cell_type": "markdown",
   "id": "bae8975c",
   "metadata": {},
   "source": [
    "### *1. Find the average gpa of all students.*"
   ]
  },
  {
   "cell_type": "code",
   "execution_count": 219,
   "id": "a7807de0",
   "metadata": {},
   "outputs": [
    {
     "data": {
      "text/html": [
       "<div>\n",
       "<style scoped>\n",
       "    .dataframe tbody tr th:only-of-type {\n",
       "        vertical-align: middle;\n",
       "    }\n",
       "\n",
       "    .dataframe tbody tr th {\n",
       "        vertical-align: top;\n",
       "    }\n",
       "\n",
       "    .dataframe thead th {\n",
       "        text-align: right;\n",
       "    }\n",
       "</style>\n",
       "<table border=\"1\" class=\"dataframe\">\n",
       "  <thead>\n",
       "    <tr style=\"text-align: right;\">\n",
       "      <th></th>\n",
       "      <th>Average GPA</th>\n",
       "    </tr>\n",
       "  </thead>\n",
       "  <tbody>\n",
       "    <tr>\n",
       "      <th>0</th>\n",
       "      <td>3.58</td>\n",
       "    </tr>\n",
       "  </tbody>\n",
       "</table>\n",
       "</div>"
      ],
      "text/plain": [
       "   Average GPA\n",
       "0         3.58"
      ]
     },
     "execution_count": 219,
     "metadata": {},
     "output_type": "execute_result"
    }
   ],
   "source": [
    "pd.read_sql('SELECT AVG([gpa]) AS \"Average GPA\"\\\n",
    "             FROM students ',con = connection)"
   ]
  },
  {
   "attachments": {},
   "cell_type": "markdown",
   "id": "d52663e3",
   "metadata": {},
   "source": [
    "### *2. SELECT the student with the maximum gpa, display only their student_id, major and gpa*"
   ]
  },
  {
   "cell_type": "code",
   "execution_count": 220,
   "id": "64ca2aa0",
   "metadata": {},
   "outputs": [
    {
     "data": {
      "text/html": [
       "<div>\n",
       "<style scoped>\n",
       "    .dataframe tbody tr th:only-of-type {\n",
       "        vertical-align: middle;\n",
       "    }\n",
       "\n",
       "    .dataframe tbody tr th {\n",
       "        vertical-align: top;\n",
       "    }\n",
       "\n",
       "    .dataframe thead th {\n",
       "        text-align: right;\n",
       "    }\n",
       "</style>\n",
       "<table border=\"1\" class=\"dataframe\">\n",
       "  <thead>\n",
       "    <tr style=\"text-align: right;\">\n",
       "      <th></th>\n",
       "      <th>student_id</th>\n",
       "      <th>major</th>\n",
       "      <th>Maximum GPA</th>\n",
       "    </tr>\n",
       "  </thead>\n",
       "  <tbody>\n",
       "    <tr>\n",
       "      <th>0</th>\n",
       "      <td>4</td>\n",
       "      <td>Physics</td>\n",
       "      <td>3.9</td>\n",
       "    </tr>\n",
       "  </tbody>\n",
       "</table>\n",
       "</div>"
      ],
      "text/plain": [
       "   student_id    major  Maximum GPA\n",
       "0           4  Physics          3.9"
      ]
     },
     "execution_count": 220,
     "metadata": {},
     "output_type": "execute_result"
    }
   ],
   "source": [
    "pd.read_sql('SELECT [student_id],[major],MAX([gpa]) AS \"Maximum GPA\"\\\n",
    "            FROM students',con=connection)"
   ]
  },
  {
   "attachments": {},
   "cell_type": "markdown",
   "id": "576a52ba",
   "metadata": {},
   "source": [
    "### *3. SELECT the student with the minimum gpa, display only their student_id, major and gpa*"
   ]
  },
  {
   "cell_type": "code",
   "execution_count": 221,
   "id": "14aef7ec",
   "metadata": {},
   "outputs": [
    {
     "data": {
      "text/html": [
       "<div>\n",
       "<style scoped>\n",
       "    .dataframe tbody tr th:only-of-type {\n",
       "        vertical-align: middle;\n",
       "    }\n",
       "\n",
       "    .dataframe tbody tr th {\n",
       "        vertical-align: top;\n",
       "    }\n",
       "\n",
       "    .dataframe thead th {\n",
       "        text-align: right;\n",
       "    }\n",
       "</style>\n",
       "<table border=\"1\" class=\"dataframe\">\n",
       "  <thead>\n",
       "    <tr style=\"text-align: right;\">\n",
       "      <th></th>\n",
       "      <th>student_id</th>\n",
       "      <th>major</th>\n",
       "      <th>Minimum GPA</th>\n",
       "    </tr>\n",
       "  </thead>\n",
       "  <tbody>\n",
       "    <tr>\n",
       "      <th>0</th>\n",
       "      <td>3</td>\n",
       "      <td>Engineering</td>\n",
       "      <td>3.0</td>\n",
       "    </tr>\n",
       "  </tbody>\n",
       "</table>\n",
       "</div>"
      ],
      "text/plain": [
       "   student_id        major  Minimum GPA\n",
       "0           3  Engineering          3.0"
      ]
     },
     "execution_count": 221,
     "metadata": {},
     "output_type": "execute_result"
    }
   ],
   "source": [
    "pd.read_sql('SELECT [student_id],[major],MIN([gpa]) AS \"Minimum GPA\"\\\n",
    "            FROM students',con=connection)"
   ]
  },
  {
   "attachments": {},
   "cell_type": "markdown",
   "id": "7feb3c85",
   "metadata": {},
   "source": [
    "### *4. SELECT the students with a gpa greater than 3.6 in the majors of \"Physics\" and \"Engineering\", display only their student_id, major and gpa*"
   ]
  },
  {
   "cell_type": "code",
   "execution_count": 222,
   "id": "32c1da10",
   "metadata": {},
   "outputs": [
    {
     "data": {
      "text/html": [
       "<div>\n",
       "<style scoped>\n",
       "    .dataframe tbody tr th:only-of-type {\n",
       "        vertical-align: middle;\n",
       "    }\n",
       "\n",
       "    .dataframe tbody tr th {\n",
       "        vertical-align: top;\n",
       "    }\n",
       "\n",
       "    .dataframe thead th {\n",
       "        text-align: right;\n",
       "    }\n",
       "</style>\n",
       "<table border=\"1\" class=\"dataframe\">\n",
       "  <thead>\n",
       "    <tr style=\"text-align: right;\">\n",
       "      <th></th>\n",
       "      <th>student_id</th>\n",
       "      <th>major</th>\n",
       "      <th>gpa</th>\n",
       "    </tr>\n",
       "  </thead>\n",
       "  <tbody>\n",
       "    <tr>\n",
       "      <th>0</th>\n",
       "      <td>2</td>\n",
       "      <td>Physics</td>\n",
       "      <td>3.8</td>\n",
       "    </tr>\n",
       "    <tr>\n",
       "      <th>1</th>\n",
       "      <td>4</td>\n",
       "      <td>Physics</td>\n",
       "      <td>3.9</td>\n",
       "    </tr>\n",
       "    <tr>\n",
       "      <th>2</th>\n",
       "      <td>5</td>\n",
       "      <td>Engineering</td>\n",
       "      <td>3.7</td>\n",
       "    </tr>\n",
       "    <tr>\n",
       "      <th>3</th>\n",
       "      <td>8</td>\n",
       "      <td>Engineering</td>\n",
       "      <td>3.8</td>\n",
       "    </tr>\n",
       "    <tr>\n",
       "      <th>4</th>\n",
       "      <td>10</td>\n",
       "      <td>Physics</td>\n",
       "      <td>3.9</td>\n",
       "    </tr>\n",
       "  </tbody>\n",
       "</table>\n",
       "</div>"
      ],
      "text/plain": [
       "   student_id        major  gpa\n",
       "0           2      Physics  3.8\n",
       "1           4      Physics  3.9\n",
       "2           5  Engineering  3.7\n",
       "3           8  Engineering  3.8\n",
       "4          10      Physics  3.9"
      ]
     },
     "execution_count": 222,
     "metadata": {},
     "output_type": "execute_result"
    }
   ],
   "source": [
    "pd.read_sql('SELECT [student_id],[major],[gpa]FROM students \\\n",
    "            WHERE [major] IN (\"Physics\", \"Engineering\") AND gpa > 3.6 ',con=connection)"
   ]
  },
  {
   "attachments": {},
   "cell_type": "markdown",
   "id": "6e1cb0be",
   "metadata": {},
   "source": [
    "### *5. Group the students by their major and retrieve the average grade of each major.*"
   ]
  },
  {
   "cell_type": "code",
   "execution_count": 223,
   "id": "e8c6f376",
   "metadata": {},
   "outputs": [
    {
     "data": {
      "text/html": [
       "<div>\n",
       "<style scoped>\n",
       "    .dataframe tbody tr th:only-of-type {\n",
       "        vertical-align: middle;\n",
       "    }\n",
       "\n",
       "    .dataframe tbody tr th {\n",
       "        vertical-align: top;\n",
       "    }\n",
       "\n",
       "    .dataframe thead th {\n",
       "        text-align: right;\n",
       "    }\n",
       "</style>\n",
       "<table border=\"1\" class=\"dataframe\">\n",
       "  <thead>\n",
       "    <tr style=\"text-align: right;\">\n",
       "      <th></th>\n",
       "      <th>major</th>\n",
       "      <th>Average Grade of each major</th>\n",
       "    </tr>\n",
       "  </thead>\n",
       "  <tbody>\n",
       "    <tr>\n",
       "      <th>0</th>\n",
       "      <td>Computer Science</td>\n",
       "      <td>3.433333</td>\n",
       "    </tr>\n",
       "    <tr>\n",
       "      <th>1</th>\n",
       "      <td>Engineering</td>\n",
       "      <td>3.500000</td>\n",
       "    </tr>\n",
       "    <tr>\n",
       "      <th>2</th>\n",
       "      <td>Physics</td>\n",
       "      <td>3.750000</td>\n",
       "    </tr>\n",
       "  </tbody>\n",
       "</table>\n",
       "</div>"
      ],
      "text/plain": [
       "              major  Average Grade of each major\n",
       "0  Computer Science                     3.433333\n",
       "1       Engineering                     3.500000\n",
       "2           Physics                     3.750000"
      ]
     },
     "execution_count": 223,
     "metadata": {},
     "output_type": "execute_result"
    }
   ],
   "source": [
    "pd.read_sql('SELECT [major],AVG([gpa]) AS \"Average Grade of each major\"\\\n",
    "             FROM students \\\n",
    "             GROUP BY [major]',con = connection)"
   ]
  },
  {
   "attachments": {},
   "cell_type": "markdown",
   "id": "a04de190",
   "metadata": {},
   "source": [
    "### *6. SELECT the top 2 students with the highest GPA in each major and order the results by major in ascending order, then by GPA in descending order*"
   ]
  },
  {
   "cell_type": "code",
   "execution_count": 224,
   "id": "9f52650d",
   "metadata": {},
   "outputs": [
    {
     "data": {
      "text/html": [
       "<div>\n",
       "<style scoped>\n",
       "    .dataframe tbody tr th:only-of-type {\n",
       "        vertical-align: middle;\n",
       "    }\n",
       "\n",
       "    .dataframe tbody tr th {\n",
       "        vertical-align: top;\n",
       "    }\n",
       "\n",
       "    .dataframe thead th {\n",
       "        text-align: right;\n",
       "    }\n",
       "</style>\n",
       "<table border=\"1\" class=\"dataframe\">\n",
       "  <thead>\n",
       "    <tr style=\"text-align: right;\">\n",
       "      <th></th>\n",
       "      <th>student_id</th>\n",
       "      <th>name</th>\n",
       "      <th>major</th>\n",
       "      <th>gpa</th>\n",
       "      <th>Major Rank</th>\n",
       "    </tr>\n",
       "  </thead>\n",
       "  <tbody>\n",
       "    <tr>\n",
       "      <th>0</th>\n",
       "      <td>6</td>\n",
       "      <td>Emily</td>\n",
       "      <td>Computer Science</td>\n",
       "      <td>3.6</td>\n",
       "      <td>1</td>\n",
       "    </tr>\n",
       "    <tr>\n",
       "      <th>1</th>\n",
       "      <td>1</td>\n",
       "      <td>John</td>\n",
       "      <td>Computer Science</td>\n",
       "      <td>3.5</td>\n",
       "      <td>2</td>\n",
       "    </tr>\n",
       "    <tr>\n",
       "      <th>2</th>\n",
       "      <td>7</td>\n",
       "      <td>Michael</td>\n",
       "      <td>Computer Science</td>\n",
       "      <td>3.2</td>\n",
       "      <td>3</td>\n",
       "    </tr>\n",
       "    <tr>\n",
       "      <th>3</th>\n",
       "      <td>8</td>\n",
       "      <td>Jessica</td>\n",
       "      <td>Engineering</td>\n",
       "      <td>3.8</td>\n",
       "      <td>1</td>\n",
       "    </tr>\n",
       "    <tr>\n",
       "      <th>4</th>\n",
       "      <td>5</td>\n",
       "      <td>James</td>\n",
       "      <td>Engineering</td>\n",
       "      <td>3.7</td>\n",
       "      <td>2</td>\n",
       "    </tr>\n",
       "    <tr>\n",
       "      <th>5</th>\n",
       "      <td>3</td>\n",
       "      <td>Bob</td>\n",
       "      <td>Engineering</td>\n",
       "      <td>3.0</td>\n",
       "      <td>3</td>\n",
       "    </tr>\n",
       "    <tr>\n",
       "      <th>6</th>\n",
       "      <td>4</td>\n",
       "      <td>Samantha</td>\n",
       "      <td>Physics</td>\n",
       "      <td>3.9</td>\n",
       "      <td>1</td>\n",
       "    </tr>\n",
       "    <tr>\n",
       "      <th>7</th>\n",
       "      <td>10</td>\n",
       "      <td>Ashley</td>\n",
       "      <td>Physics</td>\n",
       "      <td>3.9</td>\n",
       "      <td>2</td>\n",
       "    </tr>\n",
       "    <tr>\n",
       "      <th>8</th>\n",
       "      <td>2</td>\n",
       "      <td>Jane</td>\n",
       "      <td>Physics</td>\n",
       "      <td>3.8</td>\n",
       "      <td>3</td>\n",
       "    </tr>\n",
       "    <tr>\n",
       "      <th>9</th>\n",
       "      <td>9</td>\n",
       "      <td>Jacob</td>\n",
       "      <td>Physics</td>\n",
       "      <td>3.4</td>\n",
       "      <td>4</td>\n",
       "    </tr>\n",
       "  </tbody>\n",
       "</table>\n",
       "</div>"
      ],
      "text/plain": [
       "   student_id      name             major  gpa  Major Rank\n",
       "0           6     Emily  Computer Science  3.6           1\n",
       "1           1      John  Computer Science  3.5           2\n",
       "2           7   Michael  Computer Science  3.2           3\n",
       "3           8   Jessica       Engineering  3.8           1\n",
       "4           5     James       Engineering  3.7           2\n",
       "5           3       Bob       Engineering  3.0           3\n",
       "6           4  Samantha           Physics  3.9           1\n",
       "7          10    Ashley           Physics  3.9           2\n",
       "8           2      Jane           Physics  3.8           3\n",
       "9           9     Jacob           Physics  3.4           4"
      ]
     },
     "execution_count": 224,
     "metadata": {},
     "output_type": "execute_result"
    }
   ],
   "source": [
    "#create a partition for each MAJOR using the row_number() concept\n",
    "pd.read_sql('SELECT [student_id], [name], [major], [gpa], \\\n",
    "             row_number() OVER (PARTITION BY [major] order by [gpa] DESC) AS \"Major Rank\" \\\n",
    "              from students ',con = connection)"
   ]
  },
  {
   "attachments": {},
   "cell_type": "markdown",
   "id": "eb6bcada",
   "metadata": {},
   "source": [
    "Using the above query we got the partition of the majors. Now using the saem logic, keeping them in a temporary space, making use of the temp query - we can query out the top 2 students in each major"
   ]
  },
  {
   "cell_type": "code",
   "execution_count": 225,
   "id": "96740bc0",
   "metadata": {},
   "outputs": [
    {
     "data": {
      "text/html": [
       "<div>\n",
       "<style scoped>\n",
       "    .dataframe tbody tr th:only-of-type {\n",
       "        vertical-align: middle;\n",
       "    }\n",
       "\n",
       "    .dataframe tbody tr th {\n",
       "        vertical-align: top;\n",
       "    }\n",
       "\n",
       "    .dataframe thead th {\n",
       "        text-align: right;\n",
       "    }\n",
       "</style>\n",
       "<table border=\"1\" class=\"dataframe\">\n",
       "  <thead>\n",
       "    <tr style=\"text-align: right;\">\n",
       "      <th></th>\n",
       "      <th>Student ID</th>\n",
       "      <th>Name</th>\n",
       "      <th>Major</th>\n",
       "      <th>GPA</th>\n",
       "      <th>Major Rank</th>\n",
       "    </tr>\n",
       "  </thead>\n",
       "  <tbody>\n",
       "    <tr>\n",
       "      <th>0</th>\n",
       "      <td>6</td>\n",
       "      <td>Emily</td>\n",
       "      <td>Computer Science</td>\n",
       "      <td>3.6</td>\n",
       "      <td>1</td>\n",
       "    </tr>\n",
       "    <tr>\n",
       "      <th>1</th>\n",
       "      <td>1</td>\n",
       "      <td>John</td>\n",
       "      <td>Computer Science</td>\n",
       "      <td>3.5</td>\n",
       "      <td>2</td>\n",
       "    </tr>\n",
       "    <tr>\n",
       "      <th>2</th>\n",
       "      <td>8</td>\n",
       "      <td>Jessica</td>\n",
       "      <td>Engineering</td>\n",
       "      <td>3.8</td>\n",
       "      <td>1</td>\n",
       "    </tr>\n",
       "    <tr>\n",
       "      <th>3</th>\n",
       "      <td>5</td>\n",
       "      <td>James</td>\n",
       "      <td>Engineering</td>\n",
       "      <td>3.7</td>\n",
       "      <td>2</td>\n",
       "    </tr>\n",
       "    <tr>\n",
       "      <th>4</th>\n",
       "      <td>4</td>\n",
       "      <td>Samantha</td>\n",
       "      <td>Physics</td>\n",
       "      <td>3.9</td>\n",
       "      <td>1</td>\n",
       "    </tr>\n",
       "    <tr>\n",
       "      <th>5</th>\n",
       "      <td>10</td>\n",
       "      <td>Ashley</td>\n",
       "      <td>Physics</td>\n",
       "      <td>3.9</td>\n",
       "      <td>2</td>\n",
       "    </tr>\n",
       "  </tbody>\n",
       "</table>\n",
       "</div>"
      ],
      "text/plain": [
       "   Student ID      Name             Major  GPA  Major Rank\n",
       "0           6     Emily  Computer Science  3.6           1\n",
       "1           1      John  Computer Science  3.5           2\n",
       "2           8   Jessica       Engineering  3.8           1\n",
       "3           5     James       Engineering  3.7           2\n",
       "4           4  Samantha           Physics  3.9           1\n",
       "5          10    Ashley           Physics  3.9           2"
      ]
     },
     "execution_count": 225,
     "metadata": {},
     "output_type": "execute_result"
    }
   ],
   "source": [
    "#Selecting the top 2 candidates of each major\n",
    "pd.read_sql('SELECT * FROM (SELECT [student_id] AS \"Student ID\", [name] AS \"Name\", [major] AS \"Major\", [gpa] AS \"GPA\", \\\n",
    "             row_number() OVER (PARTITION BY [major] order by [gpa] DESC) AS \"Major Rank\" \\\n",
    "              from students) top_students WHERE [Major Rank] <= 2 ',con = connection)"
   ]
  },
  {
   "cell_type": "code",
   "execution_count": 226,
   "id": "4e2f3380",
   "metadata": {},
   "outputs": [],
   "source": [
    "#Closing the connection (BEST PRACTICES)\n",
    "connection.commit()\n",
    "connection.close()"
   ]
  },
  {
   "attachments": {},
   "cell_type": "markdown",
   "id": "1f41fb07",
   "metadata": {},
   "source": [
    "# <font color = 'orange'>**Thank You**</font>"
   ]
  },
  {
   "attachments": {},
   "cell_type": "markdown",
   "id": "53515e2e",
   "metadata": {},
   "source": [
    "![](https://thumbs.gfycat.com/AlienatedHappygoluckyInvisiblerail-size_restricted.gif)"
   ]
  }
 ],
 "metadata": {
  "kernelspec": {
   "display_name": "Python 3",
   "language": "python",
   "name": "python3"
  },
  "language_info": {
   "codemirror_mode": {
    "name": "ipython",
    "version": 3
   },
   "file_extension": ".py",
   "mimetype": "text/x-python",
   "name": "python",
   "nbconvert_exporter": "python",
   "pygments_lexer": "ipython3",
   "version": "3.9.15 | packaged by conda-forge | (main, Nov 22 2022, 08:39:05) [MSC v.1929 64 bit (AMD64)]"
  },
  "vscode": {
   "interpreter": {
    "hash": "9bea887aebbe5fe39094061bcdc28ca32d0cf063452203d777d9e7752b00e9c3"
   }
  }
 },
 "nbformat": 4,
 "nbformat_minor": 5
}
